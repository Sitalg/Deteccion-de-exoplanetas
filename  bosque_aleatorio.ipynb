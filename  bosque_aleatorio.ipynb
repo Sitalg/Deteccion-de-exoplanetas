{
 "cells": [
  {
   "cell_type": "code",
   "execution_count": 1,
   "id": "1ddb394e-0512-49b3-91b3-6c2434f5cf33",
   "metadata": {},
   "outputs": [],
   "source": [
    "import pandas as pd\n",
    "import numpy as np\n",
    "import matplotlib.pyplot as plt\n",
    "import seaborn as sns"
   ]
  },
  {
   "cell_type": "code",
   "execution_count": 2,
   "id": "9e9fe2fa-c37e-4b14-9e60-5839884676bf",
   "metadata": {},
   "outputs": [],
   "source": [
    "from sklearn.model_selection import train_test_split, cross_val_score\n",
    "from sklearn.ensemble import RandomForestClassifier  # Importar RandomForestClassifier\n",
    "from sklearn.preprocessing import LabelEncoder, StandardScaler\n",
    "from sklearn.metrics import confusion_matrix, precision_score, accuracy_score, recall_score\n",
    "from sklearn.metrics import roc_curve, auc"
   ]
  },
  {
   "cell_type": "code",
   "execution_count": 3,
   "id": "90347692-0f50-4d7e-b1cf-e651a53675d3",
   "metadata": {},
   "outputs": [],
   "source": [
    "df = pd.read_csv(\"https://exoplanetarchive.ipac.caltech.edu/cgi-bin/nstedAPI/nph-nstedAPI?table=cumulative&select=kepid,kepoi_name,koi_disposition,koi_period,koi_impact,koi_duration,koi_depth,koi_prad,koi_teq,koi_insol,koi_model_snr&format=csv\")"
   ]
  },
  {
   "cell_type": "code",
   "execution_count": 4,
   "id": "828c306e-ead5-4a89-8459-569ff9f9f6d4",
   "metadata": {},
   "outputs": [],
   "source": [
    "kepler_data_clean = df.dropna().reset_index(drop=True)\n",
    "kepler_clean = kepler_data_clean.drop(['kepid', 'kepoi_name'], axis=1)\n",
    "kepler_clean = kepler_clean[kepler_clean['koi_disposition'] != 'CANDIDATE'].reset_index(drop=True)"
   ]
  },
  {
   "cell_type": "code",
   "execution_count": 5,
   "id": "4de2aa90-4ef6-4524-818b-763d1e41daab",
   "metadata": {},
   "outputs": [],
   "source": [
    "etiqueta = LabelEncoder()\n",
    "kepler_clean['koi_disposition'] = etiqueta.fit_transform(kepler_clean['koi_disposition'])"
   ]
  },
  {
   "cell_type": "code",
   "execution_count": 6,
   "id": "9d15ba12-ff10-4466-b5c0-66d22b06f765",
   "metadata": {},
   "outputs": [],
   "source": [
    "x = kepler_clean.drop('koi_disposition', axis=1).values\n",
    "y = kepler_clean['koi_disposition'].values\n",
    "\n",
    "x_train, x_test, y_train, y_test = train_test_split(x, y, test_size=0.3, random_state=42)"
   ]
  },
  {
   "cell_type": "code",
   "execution_count": 7,
   "id": "6343a851-e89b-40d2-ba38-147844874411",
   "metadata": {},
   "outputs": [],
   "source": [
    "scaler = StandardScaler()\n",
    "x_train_scaled = scaler.fit_transform(x_train)\n",
    "x_test_scaled = scaler.transform(x_test)"
   ]
  },
  {
   "cell_type": "code",
   "execution_count": 9,
   "id": "d9d01371-1576-4e58-95c5-7ddce6f91bcf",
   "metadata": {},
   "outputs": [
    {
     "name": "stdout",
     "output_type": "stream",
     "text": [
      "Random Forest score = 0.913579422811772 +/- 0.005442798147367864\n"
     ]
    }
   ],
   "source": [
    "modelo = RandomForestClassifier(random_state=42)\n",
    "\n",
    "modelo.fit(x_train_scaled, y_train)\n",
    "\n",
    "scores = cross_val_score(modelo, x_train_scaled, y_train, cv=5)\n",
    "print(f'Random Forest score = {scores.mean()} +/- {scores.std()}')"
   ]
  },
  {
   "cell_type": "code",
   "execution_count": 10,
   "id": "963171c7-7eb8-4eef-bd14-924e7f6621df",
   "metadata": {},
   "outputs": [],
   "source": [
    "y_predict = modelo.predict(x_test_scaled)"
   ]
  },
  {
   "cell_type": "code",
   "execution_count": 11,
   "id": "1627b00f-2f39-4273-ac8f-5bd32552ce06",
   "metadata": {},
   "outputs": [
    {
     "data": {
      "image/png": "[encoded data removed]",
      "text/plain": [
       "<Figure size 300x300 with 1 Axes>"
      ]
     },
     "metadata": {},
     "output_type": "display_data"
    }
   ],
   "source": [
    "class_names = [0, 1]\n",
    "fig, ax = plt.subplots(figsize=(3,3))\n",
    "tick_marks = np.arange(len(class_names))\n",
    "plt.xticks(tick_marks, class_names)\n",
    "plt.yticks(tick_marks, class_names)\n",
    "sns.heatmap(pd.DataFrame(confusion_matrix(y_test, y_predict)), annot=True, cmap=\"Blues\", fmt='g', cbar=False, annot_kws={'size':20})\n",
    "ax.xaxis.set_label_position(\"top\")\n",
    "plt.tight_layout()\n",
    "plt.title('Confusion matrix', y=1.1)\n",
    "plt.ylabel('Disposición real')\n",
    "plt.xlabel('Disposición predecida')\n",
    "plt.show()"
   ]
  },
  {
   "cell_type": "code",
   "execution_count": 12,
   "id": "9522f4d6-2181-4282-ae2f-0047044be88b",
   "metadata": {},
   "outputs": [
    {
     "name": "stdout",
     "output_type": "stream",
     "text": [
      "Presición = 0.9283074648928308\n",
      "Exactitud = 0.9080564406008192\n",
      "Sensibilidad = 0.922850844966936\n"
     ]
    }
   ],
   "source": [
    "print(f'Presición = {precision_score(y_test, y_predict)}')\n",
    "print(f'Exactitud = {accuracy_score(y_test, y_predict)}')\n",
    "print(f'Sensibilidad = {recall_score(y_test, y_predict)}')"
   ]
  },
  {
   "cell_type": "code",
   "execution_count": null,
   "id": "4a22f66a-0d8f-47bc-8a62-daf947797c68",
   "metadata": {},
   "outputs": [],
   "source": []
  }
 ],
 "metadata": {
  "kernelspec": {
   "display_name": "Python 3 (ipykernel)",
   "language": "python",
   "name": "python3"
  },
  "language_info": {
   "codemirror_mode": {
    "name": "ipython",
    "version": 3
   },
   "file_extension": ".py",
   "mimetype": "text/x-python",
   "name": "python",
   "nbconvert_exporter": "python",
   "pygments_lexer": "ipython3",
   "version": "3.11.5"
  }
 },
 "nbformat": 4,
 "nbformat_minor": 5
}
